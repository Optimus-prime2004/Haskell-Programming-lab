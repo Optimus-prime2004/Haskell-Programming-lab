{
 "cells": [
  {
   "cell_type": "code",
   "execution_count": null,
   "id": "b412bc50",
   "metadata": {},
   "outputs": [],
   "source": [
    "import pyaudio\n",
    "import wave\n",
    "\n",
    "def record_audio(output_filename, duration=5, channels=1, sample_rate=44100, chunk=1024):\n",
    "    audio = pyaudio.PyAudio()\n",
    "    stream = audio.open(format=pyaudio.paInt16, channels=channels,\n",
    "                        rate=sample_rate, input=True,\n",
    "                        frames_per_buffer=chunk)\n",
    "    \n",
    "    print(\"Recording...\")\n",
    "    frames = []\n",
    "    for i in range(0, int(sample_rate / chunk * duration)):\n",
    "        data = stream.read(chunk)\n",
    "        frames.append(data)\n",
    "    \n",
    "    print(\"Finished recording.\")\n",
    "    \n",
    "    stream.stop_stream()\n",
    "    stream.close()\n",
    "    audio.terminate()\n",
    "    \n",
    "    # Save the recorded audio to a WAV file\n",
    "    wf = wave.open(output_filename, 'wb')\n",
    "    wf.setnchannels(channels)\n",
    "    wf.setsampwidth(audio.get_sample_size(pyaudio.paInt16))\n",
    "    wf.setframerate(sample_rate)\n",
    "    wf.writeframes(b''.join(frames))\n",
    "    wf.close()\n",
    "\n",
    "# Example usage\n",
    "record_audio(\"output.wav\", duration=5)\n"
   ]
  }
 ],
 "metadata": {
  "kernelspec": {
   "display_name": "Python 3 (ipykernel)",
   "language": "python",
   "name": "python3"
  },
  "language_info": {
   "codemirror_mode": {
    "name": "ipython",
    "version": 3
   },
   "file_extension": ".py",
   "mimetype": "text/x-python",
   "name": "python",
   "nbconvert_exporter": "python",
   "pygments_lexer": "ipython3",
   "version": "3.9.12"
  }
 },
 "nbformat": 4,
 "nbformat_minor": 5
}
