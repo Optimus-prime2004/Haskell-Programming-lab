{
 "cells": [
  {
   "cell_type": "code",
   "execution_count": 2,
   "id": "d0cb504c",
   "metadata": {},
   "outputs": [],
   "source": [
    "import pyttsx3\n",
    "\n",
    "def speak(text):\n",
    "    engine = pyttsx3.init()\n",
    "    engine.say(text)\n",
    "    engine.runAndWait()\n",
    "\n",
    "# Example usage\n",
    "speak(\"Hello, this is a test message.\")"
   ]
  },
  {
   "cell_type": "code",
   "execution_count": 4,
   "id": "d0e0a0bb",
   "metadata": {},
   "outputs": [],
   "source": [
    "import pyttsx3\n",
    "\n",
    "def speak(text):\n",
    "    engine = pyttsx3.init()\n",
    "    # Setting the voice to a female voice\n",
    "    engine.setProperty('voice', 'english+f1')\n",
    "    engine.say(text)\n",
    "    engine.runAndWait()\n",
    "\n",
    "# Example usage\n",
    "speak(\"Hello, this is a test message.\")\n"
   ]
  },
  {
   "cell_type": "code",
   "execution_count": 5,
   "id": "3f8491f7",
   "metadata": {},
   "outputs": [],
   "source": [
    "import pyttsx3 #import the library\n",
    "\n",
    "def voiceChange():\n",
    "    eng = pyttsx3.init() #initialize an instance\n",
    "    voice = eng.getProperty('voices') #get the available voices\n",
    "    # eng.setProperty('voice', voice[0].id) #set the voice to index 0 for male voice\n",
    "    eng.setProperty('voice', voice[1].id) #changing voice to index 1 for female voice\n",
    "    eng.say(\"This is a demonstration of how to convert index of voice using pyttsx3 library in python.\") #say method for passing text to be spoken\n",
    "    eng.runAndWait() #run and process the voice command\n",
    "\n",
    "if __name__ == \"__main__\":\n",
    "    voiceChange()"
   ]
  }
 ],
 "metadata": {
  "kernelspec": {
   "display_name": "Python 3 (ipykernel)",
   "language": "python",
   "name": "python3"
  },
  "language_info": {
   "codemirror_mode": {
    "name": "ipython",
    "version": 3
   },
   "file_extension": ".py",
   "mimetype": "text/x-python",
   "name": "python",
   "nbconvert_exporter": "python",
   "pygments_lexer": "ipython3",
   "version": "3.9.12"
  }
 },
 "nbformat": 4,
 "nbformat_minor": 5
}
